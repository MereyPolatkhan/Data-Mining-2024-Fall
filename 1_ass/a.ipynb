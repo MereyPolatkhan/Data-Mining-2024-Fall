{
 "cells": [
  {
   "cell_type": "code",
   "execution_count": 23,
   "metadata": {},
   "outputs": [],
   "source": [
    "import pandas as pd \n",
    "from sklearn.preprocessing import MinMaxScaler\n",
    "from sklearn.pipeline import Pipeline\n",
    "from sklearn.preprocessing import StandardScaler, OneHotEncoder\n",
    "from sklearn.impute import SimpleImputer\n",
    "from sklearn.compose import ColumnTransformer\n",
    "from sklearn.linear_model import LogisticRegression\n",
    "from sklearn.model_selection import train_test_split\n",
    "from sklearn.preprocessing import PolynomialFeatures\n",
    "from scipy import stats\n",
    "import numpy as np\n"
   ]
  },
  {
   "cell_type": "markdown",
   "metadata": {},
   "source": [
    "ex 1"
   ]
  },
  {
   "cell_type": "code",
   "execution_count": 26,
   "metadata": {},
   "outputs": [],
   "source": [
    "# Load the dataset\n",
    "data = pd.read_csv(\"customers-100.csv\", on_bad_lines='skip')\n"
   ]
  },
  {
   "cell_type": "code",
   "execution_count": 27,
   "metadata": {},
   "outputs": [
    {
     "name": "stdout",
     "output_type": "stream",
     "text": [
      "   Index      Customer Id First Name Last Name          Company  \\\n",
      "0      1  DD37Cf93aecA6Dc     Sheryl    Baxter  Rasmussen Group   \n",
      "1      2  1Ef7b82A4CAAD10    Preston    Lozano      Vega-Gentry   \n",
      "2      3  6F94879bDAfE5a6        Roy     Berry    Murillo-Perry   \n",
      "\n",
      "                City              Country          Phone 1  \\\n",
      "0       East Leonard                Chile     229.077.5154   \n",
      "1  East Jimmychester             Djibouti       5153435776   \n",
      "2      Isabelborough  Antigua and Barbuda  +1-539-402-0259   \n",
      "\n",
      "               Phone 2                     Email Subscription Date  \\\n",
      "0     397.884.0519x718  zunigavanessa@smith.info        2020-08-24   \n",
      "1     686-620-1820x944           vmata@colon.com        2021-04-23   \n",
      "2  (496)978-3969x58947       beckycarr@hogan.com        2020-03-25   \n",
      "\n",
      "                      Website  \n",
      "0  http://www.stephenson.com/  \n",
      "1       http://www.hobbs.com/  \n",
      "2    http://www.lawrence.com/  \n"
     ]
    }
   ],
   "source": [
    "print(data.head(3))  # Print the first 3 rows\n",
    "\n"
   ]
  },
  {
   "cell_type": "code",
   "execution_count": 28,
   "metadata": {},
   "outputs": [
    {
     "name": "stdout",
     "output_type": "stream",
     "text": [
      "    Index      Customer Id First Name Last Name             Company  \\\n",
      "97     98  28CDbC0dFe4b1Db       Fred    Guerra       Schmitt-Jones   \n",
      "98     99  c23d1D9EE8DEB0A     Yvonne    Farmer  Fitzgerald-Harrell   \n",
      "99    100  2354a0E336A91A1   Clarence    Haynes  Le, Nash and Cross   \n",
      "\n",
      "               City          Country               Phone 1  \\\n",
      "97       Ortegaland  Solomon Islands  +1-753-067-8419x7170   \n",
      "98  Lake Elijahview            Aruba         (530)311-9786   \n",
      "99        Judymouth         Honduras         (753)813-6941   \n",
      "\n",
      "                   Phone 2                           Email Subscription Date  \\\n",
      "97   +1-632-666-7507x92121                swagner@kane.org        2021-09-18   \n",
      "98  001-869-452-0943x12424  mccarthystephen@horn-green.biz        2021-08-11   \n",
      "99            783.639.1472          colleen91@faulkner.biz        2020-03-11   \n",
      "\n",
      "                              Website  \n",
      "97              https://www.ross.com/  \n",
      "98               http://watkins.info/  \n",
      "99  http://www.hatfield-saunders.net/  \n"
     ]
    }
   ],
   "source": [
    "print(data.tail(3))  # Print the last 3 rows\n"
   ]
  },
  {
   "cell_type": "code",
   "execution_count": 29,
   "metadata": {},
   "outputs": [
    {
     "name": "stdout",
     "output_type": "stream",
     "text": [
      "<class 'pandas.core.frame.DataFrame'>\n",
      "RangeIndex: 100 entries, 0 to 99\n",
      "Data columns (total 12 columns):\n",
      " #   Column             Non-Null Count  Dtype \n",
      "---  ------             --------------  ----- \n",
      " 0   Index              100 non-null    int64 \n",
      " 1   Customer Id        100 non-null    object\n",
      " 2   First Name         100 non-null    object\n",
      " 3   Last Name          100 non-null    object\n",
      " 4   Company            100 non-null    object\n",
      " 5   City               100 non-null    object\n",
      " 6   Country            100 non-null    object\n",
      " 7   Phone 1            100 non-null    object\n",
      " 8   Phone 2            100 non-null    object\n",
      " 9   Email              100 non-null    object\n",
      " 10  Subscription Date  100 non-null    object\n",
      " 11  Website            100 non-null    object\n",
      "dtypes: int64(1), object(11)\n",
      "memory usage: 9.5+ KB\n",
      "None\n"
     ]
    }
   ],
   "source": [
    "print(data.info())  # Print dataset information\n",
    "\n"
   ]
  },
  {
   "cell_type": "code",
   "execution_count": 32,
   "metadata": {},
   "outputs": [
    {
     "name": "stdout",
     "output_type": "stream",
     "text": [
      "Missing values:\n",
      "     Index  Customer Id  First Name  Last Name  Company   City  Country  \\\n",
      "0   False        False       False      False    False  False    False   \n",
      "1   False        False       False      False    False  False    False   \n",
      "2   False        False       False      False    False  False    False   \n",
      "3   False        False       False      False    False  False    False   \n",
      "4   False        False       False      False    False  False    False   \n",
      "..    ...          ...         ...        ...      ...    ...      ...   \n",
      "95  False        False       False      False    False  False    False   \n",
      "96  False        False       False      False    False  False    False   \n",
      "97  False        False       False      False    False  False    False   \n",
      "98  False        False       False      False    False  False    False   \n",
      "99  False        False       False      False    False  False    False   \n",
      "\n",
      "    Phone 1  Phone 2  Email  Subscription Date  Website  \n",
      "0     False    False  False              False    False  \n",
      "1     False    False  False              False    False  \n",
      "2     False    False  False              False    False  \n",
      "3     False    False  False              False    False  \n",
      "4     False    False  False              False    False  \n",
      "..      ...      ...    ...                ...      ...  \n",
      "95    False    False  False              False    False  \n",
      "96    False    False  False              False    False  \n",
      "97    False    False  False              False    False  \n",
      "98    False    False  False              False    False  \n",
      "99    False    False  False              False    False  \n",
      "\n",
      "[100 rows x 12 columns]\n"
     ]
    }
   ],
   "source": [
    "# Check for missing values\n",
    "missing_values = data.isnull()\n",
    "print(\"Missing values:\\n\", missing_values)\n",
    "\n"
   ]
  },
  {
   "cell_type": "code",
   "execution_count": 33,
   "metadata": {},
   "outputs": [
    {
     "name": "stdout",
     "output_type": "stream",
     "text": [
      "Index                 int64\n",
      "Customer Id          object\n",
      "First Name           object\n",
      "Last Name            object\n",
      "Company              object\n",
      "City                 object\n",
      "Country              object\n",
      "Phone 1              object\n",
      "Phone 2              object\n",
      "Email                object\n",
      "Subscription Date    object\n",
      "Website              object\n",
      "dtype: object\n"
     ]
    }
   ],
   "source": [
    "# Data types of each column\n",
    "data_types = data.dtypes\n",
    "print(data_types)"
   ]
  },
  {
   "cell_type": "markdown",
   "metadata": {},
   "source": [
    "ex 2"
   ]
  },
  {
   "cell_type": "code",
   "execution_count": 34,
   "metadata": {},
   "outputs": [
    {
     "name": "stdout",
     "output_type": "stream",
     "text": [
      "\n",
      "Number of missing values:\n",
      " Index                0\n",
      "Customer Id          0\n",
      "First Name           0\n",
      "Last Name            0\n",
      "Company              0\n",
      "City                 0\n",
      "Country              0\n",
      "Phone 1              0\n",
      "Phone 2              0\n",
      "Email                0\n",
      "Subscription Date    0\n",
      "Website              0\n",
      "dtype: int64\n"
     ]
    }
   ],
   "source": [
    "# Counting missing values in the dataset\n",
    "missing_counts = data.isnull().sum()\n",
    "\n",
    "# Print the number of missing values for each column\n",
    "print(\"\\nNumber of missing values:\\n\", missing_counts)\n"
   ]
  },
  {
   "cell_type": "code",
   "execution_count": 35,
   "metadata": {},
   "outputs": [
    {
     "name": "stdout",
     "output_type": "stream",
     "text": [
      "After removing rows with missing values:\n",
      "     Index      Customer Id First Name Last Name  \\\n",
      "0       1  DD37Cf93aecA6Dc     Sheryl    Baxter   \n",
      "1       2  1Ef7b82A4CAAD10    Preston    Lozano   \n",
      "2       3  6F94879bDAfE5a6        Roy     Berry   \n",
      "3       4  5Cef8BFA16c5e3c      Linda     Olsen   \n",
      "4       5  053d585Ab6b3159     Joanna    Bender   \n",
      "..    ...              ...        ...       ...   \n",
      "95     96  cb8E23e48d22Eae       Karl     Greer   \n",
      "96     97  CeD220bdAaCfaDf       Lynn  Atkinson   \n",
      "97     98  28CDbC0dFe4b1Db       Fred    Guerra   \n",
      "98     99  c23d1D9EE8DEB0A     Yvonne    Farmer   \n",
      "99    100  2354a0E336A91A1   Clarence    Haynes   \n",
      "\n",
      "                            Company               City  \\\n",
      "0                   Rasmussen Group       East Leonard   \n",
      "1                       Vega-Gentry  East Jimmychester   \n",
      "2                     Murillo-Perry      Isabelborough   \n",
      "3   Dominguez, Mcmillan and Donovan         Bensonview   \n",
      "4          Martin, Lang and Andrade     West Priscilla   \n",
      "..                              ...                ...   \n",
      "95                        Carey LLC       East Richard   \n",
      "96            Ware, Burns and Oneal       New Bradview   \n",
      "97                    Schmitt-Jones         Ortegaland   \n",
      "98               Fitzgerald-Harrell    Lake Elijahview   \n",
      "99               Le, Nash and Cross          Judymouth   \n",
      "\n",
      "                       Country                 Phone 1  \\\n",
      "0                        Chile            229.077.5154   \n",
      "1                     Djibouti              5153435776   \n",
      "2          Antigua and Barbuda         +1-539-402-0259   \n",
      "3           Dominican Republic  001-808-617-6467x12895   \n",
      "4   Slovakia (Slovak Republic)  001-234-203-0635x76146   \n",
      "..                         ...                     ...   \n",
      "95                      Guyana     (188)169-1674x58692   \n",
      "96                   Sri Lanka         +1-846-706-2218   \n",
      "97             Solomon Islands    +1-753-067-8419x7170   \n",
      "98                       Aruba           (530)311-9786   \n",
      "99                    Honduras           (753)813-6941   \n",
      "\n",
      "                   Phone 2                           Email Subscription Date  \\\n",
      "0         397.884.0519x718        zunigavanessa@smith.info        2020-08-24   \n",
      "1         686-620-1820x944                 vmata@colon.com        2021-04-23   \n",
      "2      (496)978-3969x58947             beckycarr@hogan.com        2020-03-25   \n",
      "3          +1-813-324-8756     stanleyblackwell@benson.org        2020-06-02   \n",
      "4    001-199-446-3860x3486         colinalvarado@miles.net        2021-04-17   \n",
      "..                     ...                             ...               ...   \n",
      "95    001-841-293-3519x614                hhart@jensen.com        2022-01-30   \n",
      "96            605.413.3198               vkemp@ferrell.com        2021-07-10   \n",
      "97   +1-632-666-7507x92121                swagner@kane.org        2021-09-18   \n",
      "98  001-869-452-0943x12424  mccarthystephen@horn-green.biz        2021-08-11   \n",
      "99            783.639.1472          colleen91@faulkner.biz        2020-03-11   \n",
      "\n",
      "                              Website  \n",
      "0          http://www.stephenson.com/  \n",
      "1               http://www.hobbs.com/  \n",
      "2            http://www.lawrence.com/  \n",
      "3          http://www.good-lyons.com/  \n",
      "4         https://goodwin-ingram.com/  \n",
      "..                                ...  \n",
      "95            http://hayes-perez.com/  \n",
      "96         https://novak-allison.com/  \n",
      "97              https://www.ross.com/  \n",
      "98               http://watkins.info/  \n",
      "99  http://www.hatfield-saunders.net/  \n",
      "\n",
      "[100 rows x 12 columns]\n"
     ]
    }
   ],
   "source": [
    "# Remove rows with missing values from the dataset\n",
    "data_dropna = data.dropna()\n",
    "\n",
    "# Print the dataset after removing rows with missing values\n",
    "print(\"After removing rows with missing values:\\n\", data_dropna)\n"
   ]
  },
  {
   "cell_type": "code",
   "execution_count": 36,
   "metadata": {},
   "outputs": [
    {
     "name": "stdout",
     "output_type": "stream",
     "text": [
      "After filling missing values with the mean:\n",
      "     Index      Customer Id First Name Last Name  \\\n",
      "0       1  DD37Cf93aecA6Dc     Sheryl    Baxter   \n",
      "1       2  1Ef7b82A4CAAD10    Preston    Lozano   \n",
      "2       3  6F94879bDAfE5a6        Roy     Berry   \n",
      "3       4  5Cef8BFA16c5e3c      Linda     Olsen   \n",
      "4       5  053d585Ab6b3159     Joanna    Bender   \n",
      "..    ...              ...        ...       ...   \n",
      "95     96  cb8E23e48d22Eae       Karl     Greer   \n",
      "96     97  CeD220bdAaCfaDf       Lynn  Atkinson   \n",
      "97     98  28CDbC0dFe4b1Db       Fred    Guerra   \n",
      "98     99  c23d1D9EE8DEB0A     Yvonne    Farmer   \n",
      "99    100  2354a0E336A91A1   Clarence    Haynes   \n",
      "\n",
      "                            Company               City  \\\n",
      "0                   Rasmussen Group       East Leonard   \n",
      "1                       Vega-Gentry  East Jimmychester   \n",
      "2                     Murillo-Perry      Isabelborough   \n",
      "3   Dominguez, Mcmillan and Donovan         Bensonview   \n",
      "4          Martin, Lang and Andrade     West Priscilla   \n",
      "..                              ...                ...   \n",
      "95                        Carey LLC       East Richard   \n",
      "96            Ware, Burns and Oneal       New Bradview   \n",
      "97                    Schmitt-Jones         Ortegaland   \n",
      "98               Fitzgerald-Harrell    Lake Elijahview   \n",
      "99               Le, Nash and Cross          Judymouth   \n",
      "\n",
      "                       Country                 Phone 1  \\\n",
      "0                        Chile            229.077.5154   \n",
      "1                     Djibouti              5153435776   \n",
      "2          Antigua and Barbuda         +1-539-402-0259   \n",
      "3           Dominican Republic  001-808-617-6467x12895   \n",
      "4   Slovakia (Slovak Republic)  001-234-203-0635x76146   \n",
      "..                         ...                     ...   \n",
      "95                      Guyana     (188)169-1674x58692   \n",
      "96                   Sri Lanka         +1-846-706-2218   \n",
      "97             Solomon Islands    +1-753-067-8419x7170   \n",
      "98                       Aruba           (530)311-9786   \n",
      "99                    Honduras           (753)813-6941   \n",
      "\n",
      "                   Phone 2                           Email Subscription Date  \\\n",
      "0         397.884.0519x718        zunigavanessa@smith.info        2020-08-24   \n",
      "1         686-620-1820x944                 vmata@colon.com        2021-04-23   \n",
      "2      (496)978-3969x58947             beckycarr@hogan.com        2020-03-25   \n",
      "3          +1-813-324-8756     stanleyblackwell@benson.org        2020-06-02   \n",
      "4    001-199-446-3860x3486         colinalvarado@miles.net        2021-04-17   \n",
      "..                     ...                             ...               ...   \n",
      "95    001-841-293-3519x614                hhart@jensen.com        2022-01-30   \n",
      "96            605.413.3198               vkemp@ferrell.com        2021-07-10   \n",
      "97   +1-632-666-7507x92121                swagner@kane.org        2021-09-18   \n",
      "98  001-869-452-0943x12424  mccarthystephen@horn-green.biz        2021-08-11   \n",
      "99            783.639.1472          colleen91@faulkner.biz        2020-03-11   \n",
      "\n",
      "                              Website  \n",
      "0          http://www.stephenson.com/  \n",
      "1               http://www.hobbs.com/  \n",
      "2            http://www.lawrence.com/  \n",
      "3          http://www.good-lyons.com/  \n",
      "4         https://goodwin-ingram.com/  \n",
      "..                                ...  \n",
      "95            http://hayes-perez.com/  \n",
      "96         https://novak-allison.com/  \n",
      "97              https://www.ross.com/  \n",
      "98               http://watkins.info/  \n",
      "99  http://www.hatfield-saunders.net/  \n",
      "\n",
      "[100 rows x 12 columns]\n"
     ]
    }
   ],
   "source": [
    "# Fill missing values with the mean of each numeric column\n",
    "data_fill_mean = data.fillna(data.mean(numeric_only=True))\n",
    "\n",
    "# Print the dataset after filling missing values with the mean\n",
    "print(\"After filling missing values with the mean:\\n\", data_fill_mean)\n"
   ]
  },
  {
   "cell_type": "code",
   "execution_count": 37,
   "metadata": {},
   "outputs": [
    {
     "name": "stdout",
     "output_type": "stream",
     "text": [
      "After forward filling missing values:\n",
      "     Index      Customer Id First Name Last Name  \\\n",
      "0       1  DD37Cf93aecA6Dc     Sheryl    Baxter   \n",
      "1       2  1Ef7b82A4CAAD10    Preston    Lozano   \n",
      "2       3  6F94879bDAfE5a6        Roy     Berry   \n",
      "3       4  5Cef8BFA16c5e3c      Linda     Olsen   \n",
      "4       5  053d585Ab6b3159     Joanna    Bender   \n",
      "..    ...              ...        ...       ...   \n",
      "95     96  cb8E23e48d22Eae       Karl     Greer   \n",
      "96     97  CeD220bdAaCfaDf       Lynn  Atkinson   \n",
      "97     98  28CDbC0dFe4b1Db       Fred    Guerra   \n",
      "98     99  c23d1D9EE8DEB0A     Yvonne    Farmer   \n",
      "99    100  2354a0E336A91A1   Clarence    Haynes   \n",
      "\n",
      "                            Company               City  \\\n",
      "0                   Rasmussen Group       East Leonard   \n",
      "1                       Vega-Gentry  East Jimmychester   \n",
      "2                     Murillo-Perry      Isabelborough   \n",
      "3   Dominguez, Mcmillan and Donovan         Bensonview   \n",
      "4          Martin, Lang and Andrade     West Priscilla   \n",
      "..                              ...                ...   \n",
      "95                        Carey LLC       East Richard   \n",
      "96            Ware, Burns and Oneal       New Bradview   \n",
      "97                    Schmitt-Jones         Ortegaland   \n",
      "98               Fitzgerald-Harrell    Lake Elijahview   \n",
      "99               Le, Nash and Cross          Judymouth   \n",
      "\n",
      "                       Country                 Phone 1  \\\n",
      "0                        Chile            229.077.5154   \n",
      "1                     Djibouti              5153435776   \n",
      "2          Antigua and Barbuda         +1-539-402-0259   \n",
      "3           Dominican Republic  001-808-617-6467x12895   \n",
      "4   Slovakia (Slovak Republic)  001-234-203-0635x76146   \n",
      "..                         ...                     ...   \n",
      "95                      Guyana     (188)169-1674x58692   \n",
      "96                   Sri Lanka         +1-846-706-2218   \n",
      "97             Solomon Islands    +1-753-067-8419x7170   \n",
      "98                       Aruba           (530)311-9786   \n",
      "99                    Honduras           (753)813-6941   \n",
      "\n",
      "                   Phone 2                           Email Subscription Date  \\\n",
      "0         397.884.0519x718        zunigavanessa@smith.info        2020-08-24   \n",
      "1         686-620-1820x944                 vmata@colon.com        2021-04-23   \n",
      "2      (496)978-3969x58947             beckycarr@hogan.com        2020-03-25   \n",
      "3          +1-813-324-8756     stanleyblackwell@benson.org        2020-06-02   \n",
      "4    001-199-446-3860x3486         colinalvarado@miles.net        2021-04-17   \n",
      "..                     ...                             ...               ...   \n",
      "95    001-841-293-3519x614                hhart@jensen.com        2022-01-30   \n",
      "96            605.413.3198               vkemp@ferrell.com        2021-07-10   \n",
      "97   +1-632-666-7507x92121                swagner@kane.org        2021-09-18   \n",
      "98  001-869-452-0943x12424  mccarthystephen@horn-green.biz        2021-08-11   \n",
      "99            783.639.1472          colleen91@faulkner.biz        2020-03-11   \n",
      "\n",
      "                              Website  \n",
      "0          http://www.stephenson.com/  \n",
      "1               http://www.hobbs.com/  \n",
      "2            http://www.lawrence.com/  \n",
      "3          http://www.good-lyons.com/  \n",
      "4         https://goodwin-ingram.com/  \n",
      "..                                ...  \n",
      "95            http://hayes-perez.com/  \n",
      "96         https://novak-allison.com/  \n",
      "97              https://www.ross.com/  \n",
      "98               http://watkins.info/  \n",
      "99  http://www.hatfield-saunders.net/  \n",
      "\n",
      "[100 rows x 12 columns]\n"
     ]
    }
   ],
   "source": [
    "# Forward fill missing values in the dataset\n",
    "data_ffill = data.ffill()\n",
    "\n",
    "# Print the dataset after forward filling missing values\n",
    "print(\"After forward filling missing values:\\n\", data_ffill)\n"
   ]
  },
  {
   "cell_type": "code",
   "execution_count": 38,
   "metadata": {},
   "outputs": [
    {
     "name": "stdout",
     "output_type": "stream",
     "text": [
      "After backward filling missing values:\n",
      "     Index      Customer Id First Name Last Name  \\\n",
      "0       1  DD37Cf93aecA6Dc     Sheryl    Baxter   \n",
      "1       2  1Ef7b82A4CAAD10    Preston    Lozano   \n",
      "2       3  6F94879bDAfE5a6        Roy     Berry   \n",
      "3       4  5Cef8BFA16c5e3c      Linda     Olsen   \n",
      "4       5  053d585Ab6b3159     Joanna    Bender   \n",
      "..    ...              ...        ...       ...   \n",
      "95     96  cb8E23e48d22Eae       Karl     Greer   \n",
      "96     97  CeD220bdAaCfaDf       Lynn  Atkinson   \n",
      "97     98  28CDbC0dFe4b1Db       Fred    Guerra   \n",
      "98     99  c23d1D9EE8DEB0A     Yvonne    Farmer   \n",
      "99    100  2354a0E336A91A1   Clarence    Haynes   \n",
      "\n",
      "                            Company               City  \\\n",
      "0                   Rasmussen Group       East Leonard   \n",
      "1                       Vega-Gentry  East Jimmychester   \n",
      "2                     Murillo-Perry      Isabelborough   \n",
      "3   Dominguez, Mcmillan and Donovan         Bensonview   \n",
      "4          Martin, Lang and Andrade     West Priscilla   \n",
      "..                              ...                ...   \n",
      "95                        Carey LLC       East Richard   \n",
      "96            Ware, Burns and Oneal       New Bradview   \n",
      "97                    Schmitt-Jones         Ortegaland   \n",
      "98               Fitzgerald-Harrell    Lake Elijahview   \n",
      "99               Le, Nash and Cross          Judymouth   \n",
      "\n",
      "                       Country                 Phone 1  \\\n",
      "0                        Chile            229.077.5154   \n",
      "1                     Djibouti              5153435776   \n",
      "2          Antigua and Barbuda         +1-539-402-0259   \n",
      "3           Dominican Republic  001-808-617-6467x12895   \n",
      "4   Slovakia (Slovak Republic)  001-234-203-0635x76146   \n",
      "..                         ...                     ...   \n",
      "95                      Guyana     (188)169-1674x58692   \n",
      "96                   Sri Lanka         +1-846-706-2218   \n",
      "97             Solomon Islands    +1-753-067-8419x7170   \n",
      "98                       Aruba           (530)311-9786   \n",
      "99                    Honduras           (753)813-6941   \n",
      "\n",
      "                   Phone 2                           Email Subscription Date  \\\n",
      "0         397.884.0519x718        zunigavanessa@smith.info        2020-08-24   \n",
      "1         686-620-1820x944                 vmata@colon.com        2021-04-23   \n",
      "2      (496)978-3969x58947             beckycarr@hogan.com        2020-03-25   \n",
      "3          +1-813-324-8756     stanleyblackwell@benson.org        2020-06-02   \n",
      "4    001-199-446-3860x3486         colinalvarado@miles.net        2021-04-17   \n",
      "..                     ...                             ...               ...   \n",
      "95    001-841-293-3519x614                hhart@jensen.com        2022-01-30   \n",
      "96            605.413.3198               vkemp@ferrell.com        2021-07-10   \n",
      "97   +1-632-666-7507x92121                swagner@kane.org        2021-09-18   \n",
      "98  001-869-452-0943x12424  mccarthystephen@horn-green.biz        2021-08-11   \n",
      "99            783.639.1472          colleen91@faulkner.biz        2020-03-11   \n",
      "\n",
      "                              Website  \n",
      "0          http://www.stephenson.com/  \n",
      "1               http://www.hobbs.com/  \n",
      "2            http://www.lawrence.com/  \n",
      "3          http://www.good-lyons.com/  \n",
      "4         https://goodwin-ingram.com/  \n",
      "..                                ...  \n",
      "95            http://hayes-perez.com/  \n",
      "96         https://novak-allison.com/  \n",
      "97              https://www.ross.com/  \n",
      "98               http://watkins.info/  \n",
      "99  http://www.hatfield-saunders.net/  \n",
      "\n",
      "[100 rows x 12 columns]\n"
     ]
    }
   ],
   "source": [
    "# Backward fill missing values in the dataset\n",
    "data_bfill = data.bfill()\n",
    "\n",
    "# Print the dataset after backward filling missing values\n",
    "print(\"After backward filling missing values:\\n\", data_bfill)\n"
   ]
  },
  {
   "cell_type": "code",
   "execution_count": null,
   "metadata": {},
   "outputs": [],
   "source": []
  },
  {
   "cell_type": "markdown",
   "metadata": {},
   "source": [
    "ex 3"
   ]
  },
  {
   "cell_type": "code",
   "execution_count": 39,
   "metadata": {},
   "outputs": [
    {
     "name": "stdout",
     "output_type": "stream",
     "text": [
      "Min-Max Scaled Data:\n",
      "    Place  Score\n",
      "0   0.00   1.00\n",
      "1   0.25   0.75\n",
      "2   0.50   0.50\n",
      "3   0.75   0.25\n",
      "4   1.00   0.00\n"
     ]
    }
   ],
   "source": [
    "# Creating a DataFrame with 'Place' and 'Score' columns\n",
    "df = pd.DataFrame({\n",
    "    'Place': [1, 2, 3, 4, 5],\n",
    "    'Score': [50, 40, 30, 20, 10]\n",
    "})\n",
    "\n",
    "# Normalizing data to a range between 0 and 1 using Min-Max Scaler\n",
    "scaler = MinMaxScaler()\n",
    "\n",
    "# Apply Min-Max scaling to the DataFrame\n",
    "df_normalized = pd.DataFrame(scaler.fit_transform(df), columns=df.columns)\n",
    "\n",
    "# Print the normalized DataFrame\n",
    "print(\"Min-Max Scaled Data:\\n\", df_normalized)\n"
   ]
  },
  {
   "cell_type": "code",
   "execution_count": 40,
   "metadata": {},
   "outputs": [
    {
     "name": "stdout",
     "output_type": "stream",
     "text": [
      "One-hot Encoded Data:\n",
      "    Gender_FEMALE  Gender_MALE\n",
      "0          False         True\n",
      "1          False         True\n",
      "2           True        False\n",
      "3          False         True\n",
      "4           True        False\n"
     ]
    }
   ],
   "source": [
    "df_gender = pd.DataFrame({\n",
    "    'Gender': ['MALE', 'MALE', 'FEMALE', 'MALE', 'FEMALE']\n",
    "})\n",
    "\n",
    "df_encoded = pd.get_dummies(df_gender, columns=['Gender'])\n",
    "print(\"One-hot Encoded Data:\\n\", df_encoded)\n"
   ]
  },
  {
   "cell_type": "code",
   "execution_count": 41,
   "metadata": {},
   "outputs": [
    {
     "name": "stdout",
     "output_type": "stream",
     "text": [
      "Binned Data:\n",
      "    Value Binned\n",
      "0      1    0-5\n",
      "1      5    0-5\n",
      "2     10   5-10\n",
      "3     15  10-15\n",
      "4     20  15-20\n"
     ]
    }
   ],
   "source": [
    "df_continuous = pd.DataFrame({\n",
    "    'Value': [1, 5, 10, 15, 20]\n",
    "})\n",
    "\n",
    "bins = [0, 5, 10, 15, 20]\n",
    "labels = ['0-5', '5-10', '10-15', '15-20']\n",
    "\n",
    "df_binned = pd.cut(df_continuous['Value'], bins=bins, labels=labels)\n",
    "df_continuous['Binned'] = df_binned\n",
    "print(\"Binned Data:\\n\", df_continuous)\n"
   ]
  },
  {
   "cell_type": "markdown",
   "metadata": {},
   "source": [
    "ex 4"
   ]
  },
  {
   "cell_type": "code",
   "execution_count": 42,
   "metadata": {},
   "outputs": [
    {
     "name": "stdout",
     "output_type": "stream",
     "text": [
      "Polynomial features:\n",
      "    Feature1  Feature2  Feature1^2  Feature1*Feature2  Feature2^2\n",
      "0       1.0      10.0         1.0               10.0       100.0\n",
      "1       2.0      20.0         4.0               40.0       400.0\n",
      "2       3.0      30.0         9.0               90.0       900.0\n",
      "3       4.0      40.0        16.0              160.0      1600.0\n",
      "4       5.0      50.0        25.0              250.0      2500.0\n"
     ]
    }
   ],
   "source": [
    "df = pd.DataFrame({\n",
    "    'Feature1': [1, 2, 3, 4, 5],\n",
    "    'Feature2': [10, 20, 30, 40, 50]\n",
    "})\n",
    "\n",
    "poly = PolynomialFeatures(degree=2, include_bias=False)\n",
    "df_poly = pd.DataFrame(poly.fit_transform(df), columns=['Feature1', 'Feature2', 'Feature1^2', 'Feature1*Feature2', 'Feature2^2'])\n",
    "\n",
    "print(\"Polynomial features:\\n\", df_poly)\n"
   ]
  },
  {
   "cell_type": "code",
   "execution_count": 43,
   "metadata": {},
   "outputs": [
    {
     "name": "stdout",
     "output_type": "stream",
     "text": [
      "Data and received features:\n",
      "         Date  Year  Month  Day  DayOfWeek  Quarter\n",
      "0 2024-09-12  2024      9   12          3        3\n",
      "1 2024-10-01  2024     10    1          1        4\n",
      "2 2024-12-25  2024     12   25          2        4\n",
      "3 2025-01-15  2025      1   15          2        1\n",
      "4 2025-03-20  2025      3   20          3        1\n"
     ]
    }
   ],
   "source": [
    "df_dates = pd.DataFrame({\n",
    "    'Date': ['2024-09-12', '2024-10-01', '2024-12-25', '2025-01-15', '2025-03-20']\n",
    "})\n",
    "\n",
    "df_dates['Date'] = pd.to_datetime(df_dates['Date'])\n",
    "\n",
    "df_dates['Year'] = df_dates['Date'].dt.year\n",
    "df_dates['Month'] = df_dates['Date'].dt.month\n",
    "df_dates['Day'] = df_dates['Date'].dt.day\n",
    "df_dates['DayOfWeek'] = df_dates['Date'].dt.dayofweek\n",
    "df_dates['Quarter'] = df_dates['Date'].dt.quarter\n",
    "\n",
    "print(\"Data and received features:\\n\", df_dates)\n"
   ]
  },
  {
   "cell_type": "code",
   "execution_count": 44,
   "metadata": {},
   "outputs": [
    {
     "name": "stdout",
     "output_type": "stream",
     "text": [
      "Sales with a new features:\n",
      "    SalePrice  CostPrice  Profit   Discount\n",
      "0        100         70      30  70.000000\n",
      "1        150        100      50  66.666667\n",
      "2        200        150      50  75.000000\n",
      "3        300        250      50  83.333333\n"
     ]
    }
   ],
   "source": [
    "df_sales = pd.DataFrame({\n",
    "    'SalePrice': [100, 150, 200, 300],\n",
    "    'CostPrice': [70, 100, 150, 250]\n",
    "})\n",
    "\n",
    "df_sales['Profit'] = df_sales['SalePrice'] - df_sales['CostPrice']\n",
    "df_sales['Discount'] = (df_sales['CostPrice'] / df_sales['SalePrice']) * 100\n",
    "\n",
    "print(\"Sales with a new features:\\n\", df_sales)\n"
   ]
  },
  {
   "cell_type": "code",
   "execution_count": null,
   "metadata": {},
   "outputs": [],
   "source": []
  },
  {
   "cell_type": "markdown",
   "metadata": {},
   "source": [
    "ex 5"
   ]
  },
  {
   "cell_type": "code",
   "execution_count": 45,
   "metadata": {},
   "outputs": [
    {
     "name": "stdout",
     "output_type": "stream",
     "text": [
      "Existing data frame:\n",
      "    ID   Name  Value\n",
      "0   1  Alice     10\n",
      "1   2    Bob     20\n",
      "2   2    Bob     20\n",
      "3   4  David     40\n",
      "\n",
      "data frame after deleting duplicates :\n",
      "    ID   Name  Value\n",
      "0   1  Alice     10\n",
      "1   2    Bob     20\n",
      "3   4  David     40\n"
     ]
    }
   ],
   "source": [
    "df = pd.DataFrame({\n",
    "    'ID': [1, 2, 2, 4],\n",
    "    'Name': ['Alice', 'Bob', 'Bob', 'David'],\n",
    "    'Value': [10, 20, 20, 40]\n",
    "})\n",
    "\n",
    "print(\"Existing data frame:\\n\", df)\n",
    "\n",
    "df_cleaned = df.drop_duplicates()\n",
    "print(\"\\ndata frame after deleting duplicates :\\n\", df_cleaned)\n"
   ]
  },
  {
   "cell_type": "code",
   "execution_count": 46,
   "metadata": {},
   "outputs": [
    {
     "name": "stdout",
     "output_type": "stream",
     "text": [
      "Z-scores:\n",
      " 0    0.578097\n",
      "1    0.520860\n",
      "2    0.463622\n",
      "3    0.435004\n",
      "4    1.997582\n",
      "Name: Value, dtype: float64\n",
      "\n",
      "DataFrame after removing outliers:\n",
      "    Value\n",
      "0     10\n",
      "1     12\n",
      "2     14\n",
      "3     15\n",
      "4    100\n"
     ]
    }
   ],
   "source": [
    "# Creating a DataFrame with a column 'Value'\n",
    "df = pd.DataFrame({\n",
    "    'Value': [10, 12, 14, 15, 100]\n",
    "})\n",
    "\n",
    "# Calculate the Z-scores of the 'Value' column\n",
    "z_scores = np.abs(stats.zscore(df['Value']))\n",
    "\n",
    "# Print the Z-scores for each value\n",
    "print(\"Z-scores:\\n\", z_scores)\n",
    "\n",
    "# Remove rows where the Z-score is 3 or higher (indicating outliers)\n",
    "df_no_outliers = df[(z_scores < 3)]\n",
    "\n",
    "# Print the DataFrame after removing outliers\n",
    "print(\"\\nDataFrame after removing outliers:\\n\", df_no_outliers)\n"
   ]
  },
  {
   "cell_type": "code",
   "execution_count": 47,
   "metadata": {},
   "outputs": [
    {
     "name": "stdout",
     "output_type": "stream",
     "text": [
      "\n",
      "DataFrame after removing outliers (IQR method):\n",
      "    Value\n",
      "0     10\n",
      "1     12\n",
      "2     14\n",
      "3     15\n"
     ]
    }
   ],
   "source": [
    "# Calculate the Interquartile Range (IQR) to remove outliers\n",
    "Q1 = df['Value'].quantile(0.25)  # First quartile (25th percentile)\n",
    "Q3 = df['Value'].quantile(0.75)  # Third quartile (75th percentile)\n",
    "IQR = Q3 - Q1  # Interquartile Range\n",
    "\n",
    "# Define bounds for outlier detection\n",
    "lower_bound = Q1 - 1.5 * IQR\n",
    "upper_bound = Q3 + 1.5 * IQR\n",
    "\n",
    "# Remove rows where 'Value' is outside the bounds (outliers)\n",
    "df_no_outliers_iqr = df[(df['Value'] >= lower_bound) & (df['Value'] <= upper_bound)]\n",
    "\n",
    "# Print the DataFrame after removing outliers using the IQR method\n",
    "print(\"\\nDataFrame after removing outliers (IQR method):\\n\", df_no_outliers_iqr)\n"
   ]
  },
  {
   "cell_type": "code",
   "execution_count": 48,
   "metadata": {},
   "outputs": [
    {
     "name": "stdout",
     "output_type": "stream",
     "text": [
      "DataFrame after correcting inconsistencies:\n",
      "   Category\n",
      "0        A\n",
      "1        B\n",
      "2        B\n",
      "3        A\n",
      "4        C\n"
     ]
    }
   ],
   "source": [
    "# Creating a DataFrame with a column 'Category'\n",
    "df = pd.DataFrame({\n",
    "    'Category': ['A', 'b', 'B ', 'a', ' C']\n",
    "})\n",
    "\n",
    "# Strip leading and trailing spaces and convert to lowercase\n",
    "df['Category'] = df['Category'].str.strip().str.lower()\n",
    "\n",
    "# Replace inconsistent category values with standard ones\n",
    "df['Category'] = df['Category'].replace({'a': 'A', 'b': 'B', 'c': 'C'})\n",
    "\n",
    "# Print the DataFrame after correcting inconsistencies\n",
    "print(\"DataFrame after correcting inconsistencies:\\n\", df)\n"
   ]
  },
  {
   "cell_type": "markdown",
   "metadata": {},
   "source": [
    "ex 6"
   ]
  },
  {
   "cell_type": "code",
   "execution_count": 50,
   "metadata": {},
   "outputs": [
    {
     "name": "stdout",
     "output_type": "stream",
     "text": [
      "Training sets:\n",
      "    Feature1  Feature2\n",
      "5         6        60\n",
      "2         3        30\n",
      "4         5        50\n",
      "3         4        40 5    1\n",
      "2    0\n",
      "4    0\n",
      "3    1\n",
      "Name: Target, dtype: int64\n",
      "\n",
      "Testing sets:\n",
      "    Feature1  Feature2\n",
      "0         1        10\n",
      "1         2        20 0    0\n",
      "1    1\n",
      "Name: Target, dtype: int64\n"
     ]
    }
   ],
   "source": [
    "# Creating a DataFrame with features and target variable\n",
    "data = {\n",
    "    'Feature1': [1, 2, 3, 4, 5, 6],\n",
    "    'Feature2': [10, 20, 30, 40, 50, 60],\n",
    "    'Target': [0, 1, 0, 1, 0, 1]\n",
    "}\n",
    "df = pd.DataFrame(data)\n",
    "\n",
    "# Separating features and target variable\n",
    "X = df[['Feature1', 'Feature2']]\n",
    "y = df['Target']\n",
    "\n",
    "# Splitting the data into training and test sets (70% training, 30% testing)\n",
    "X_train, X_test, y_train, y_test = train_test_split(X, y, test_size=0.3, random_state=42)\n",
    "\n",
    "# Print the training sets and testing sets\n",
    "print(\"Training sets:\\n\", X_train, y_train)\n",
    "print(\"\\nTesting sets:\\n\", X_test, y_test)\n"
   ]
  },
  {
   "cell_type": "code",
   "execution_count": 51,
   "metadata": {},
   "outputs": [
    {
     "name": "stdout",
     "output_type": "stream",
     "text": [
      "Training sets (80-20 split):\n",
      "    Feature1  Feature2\n",
      "5         6        60\n",
      "2         3        30\n",
      "4         5        50\n",
      "3         4        40 5    1\n",
      "2    0\n",
      "4    0\n",
      "3    1\n",
      "Name: Target, dtype: int64\n",
      "\n",
      "Testing sets (80-20 split):\n",
      "    Feature1  Feature2\n",
      "0         1        10\n",
      "1         2        20 0    0\n",
      "1    1\n",
      "Name: Target, dtype: int64\n"
     ]
    }
   ],
   "source": [
    "# Splitting the data into training and test sets (80% training, 20% testing)\n",
    "X_train_80, X_test_20, y_train_80, y_test_20 = train_test_split(X, y, test_size=0.2, random_state=42)\n",
    "\n",
    "# Print the training sets and testing sets for the 80-20 split\n",
    "print(\"Training sets (80-20 split):\\n\", X_train_80, y_train_80)\n",
    "print(\"\\nTesting sets (80-20 split):\\n\", X_test_20, y_test_20)\n"
   ]
  },
  {
   "cell_type": "code",
   "execution_count": null,
   "metadata": {},
   "outputs": [],
   "source": []
  },
  {
   "cell_type": "markdown",
   "metadata": {},
   "source": [
    "ex 7    "
   ]
  },
  {
   "cell_type": "code",
   "execution_count": 52,
   "metadata": {},
   "outputs": [
    {
     "name": "stdout",
     "output_type": "stream",
     "text": [
      "Accuracy: 0.00\n"
     ]
    }
   ],
   "source": [
    "# Creating a DataFrame with features and target variable\n",
    "data = {\n",
    "    'age': [25, 30, None, 35, 40],\n",
    "    'city': ['New York', 'Los Angeles', 'New York', None, 'Chicago'],\n",
    "    'income': [50000, 60000, None, 80000, 70000],\n",
    "    'purchased': [1, 0, 1, 0, 1]  # Target variable\n",
    "}\n",
    "\n",
    "df = pd.DataFrame(data)\n",
    "\n",
    "# Separating features and target variable\n",
    "X = df.drop('purchased', axis=1)\n",
    "y = df['purchased']\n",
    "\n",
    "# Defining preprocessing pipelines for numeric and categorical features\n",
    "numeric_features = ['age', 'income']\n",
    "categorical_features = ['city']\n",
    "\n",
    "numeric_transformer = Pipeline(steps=[\n",
    "    ('imputer', SimpleImputer(strategy='mean')),  # Fill missing values with the mean\n",
    "    ('scaler', StandardScaler())  # Standardize numeric features\n",
    "])\n",
    "\n",
    "categorical_transformer = Pipeline(steps=[\n",
    "    ('imputer', SimpleImputer(strategy='most_frequent')),  # Fill missing values with the most frequent value\n",
    "    ('onehot', OneHotEncoder(handle_unknown='ignore'))  # One-hot encode categorical features\n",
    "])\n",
    "\n",
    "# Combining preprocessing steps for numeric and categorical features\n",
    "preprocessor = ColumnTransformer(\n",
    "    transformers=[\n",
    "        ('num', numeric_transformer, numeric_features),\n",
    "        ('cat', categorical_transformer, categorical_features)\n",
    "    ])\n",
    "\n",
    "# Creating a pipeline that first preprocesses the data and then applies a logistic regression model\n",
    "model = Pipeline(steps=[\n",
    "    ('preprocessor', preprocessor),\n",
    "    ('classifier', LogisticRegression())  # Logistic Regression model\n",
    "])\n",
    "\n",
    "# Splitting the data into training and test sets (80% training, 20% testing)\n",
    "X_train, X_test, y_train, y_test = train_test_split(X, y, test_size=0.2, random_state=42)\n",
    "\n",
    "# Training the model\n",
    "model.fit(X_train, y_train)\n",
    "\n",
    "# Evaluating the model's accuracy on the test set\n",
    "score = model.score(X_test, y_test)\n",
    "print(f'Accuracy: {score:.2f}')\n"
   ]
  },
  {
   "cell_type": "code",
   "execution_count": null,
   "metadata": {},
   "outputs": [],
   "source": []
  }
 ],
 "metadata": {
  "kernelspec": {
   "display_name": "Python 3",
   "language": "python",
   "name": "python3"
  },
  "language_info": {
   "codemirror_mode": {
    "name": "ipython",
    "version": 3
   },
   "file_extension": ".py",
   "mimetype": "text/x-python",
   "name": "python",
   "nbconvert_exporter": "python",
   "pygments_lexer": "ipython3",
   "version": "3.12.6"
  }
 },
 "nbformat": 4,
 "nbformat_minor": 2
}
